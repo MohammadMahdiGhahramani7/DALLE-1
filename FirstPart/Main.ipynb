{
  "nbformat": 4,
  "nbformat_minor": 0,
  "metadata": {
    "colab": {
      "provenance": []
    },
    "kernelspec": {
      "name": "python3",
      "display_name": "Python 3"
    },
    "language_info": {
      "name": "python"
    }
  },
  "cells": [
    {
      "cell_type": "code",
      "execution_count": null,
      "metadata": {
        "id": "HRzOroLKNcPz"
      },
      "outputs": [],
      "source": [
        "import torch\n",
        "from torch import optim\n",
        "from torch.utils.data import Dataset, DataLoader\n",
        "from DallEdVAE import dVAE\n",
        "from train_dVAE import train\n",
        "import numpy as np\n",
        "import time\n",
        "import pickle\n",
        "\n",
        "# Model\n",
        "device = torch.device(\"cuda:0\" if torch.cuda.is_available() else \"cpu\")\n",
        "batch_size = 256\n",
        "epochs = 20\n",
        "lr = 1e-3\n",
        "inp_ch = 3\n",
        "n_hid = 256\n",
        "n_init = 128\n",
        "bpg = 2\n",
        "K = 8192\n",
        "D = 512\n",
        "Beta = 6.6\n",
        "print_step = 10\n",
        "path_to_data = None\n",
        "path_to_model = None\n",
        "\n",
        "model = dVAE(inp_ch, n_hid, n_init, bpg, K, D, Beta).to(device)\n",
        "\n",
        "if path_to_model != None:\n",
        "    model.load_state_dict(torch.load(path_to_model))\n",
        "\n",
        "optimizer = optim.Adam(model.parameters(), lr=lr, amsgrad=False)\n",
        "\n",
        "# Loading the data\n",
        "with open(path_to_data, 'rb') as f:\n",
        "    dataset = pickle.load(f)\n",
        "\n",
        "class MyDataset(Dataset):\n",
        "    def __init__(self, dataset):\n",
        "      super().__init__()\n",
        "      self.dataset = dataset\n",
        "    def __len__(self):\n",
        "      return len(self.dataset)\n",
        "    def __getitem__(self, idx):\n",
        "      img = self.dataset[idx]\n",
        "      return img\n",
        "\n",
        "img_dataset = MyDataset(dataset)\n",
        "data_var = 1#np.var(img_dataset) #in bayad mohasebe beshe\n",
        "dataloader = DataLoader(img_dataset, batch_size=batch_size, shuffle=True)\n",
        "\n",
        "# Training\n",
        "start_time = time.time()\n",
        "total_L, rec_L, vq_L, perplexities = train(model, optimizer, dataloader, epochs, data_var,\n",
        "                                           K, device, print_step, batch_size)\n",
        "end_time = time.time()\n",
        "print(f\"Training time: {end_time- start_time:.3f} seconds\")"
      ]
    }
  ]
}